{
 "cells": [
  {
   "cell_type": "code",
   "execution_count": 1,
   "metadata": {},
   "outputs": [],
   "source": [
    "import numpy as np\n",
    "import pandas as pd\n",
    "import tensorflow as tf\n",
    "from sklearn.preprocessing import MinMaxScaler"
   ]
  },
  {
   "cell_type": "code",
   "execution_count": 2,
   "metadata": {},
   "outputs": [],
   "source": [
    "df = pd.read_csv('AAPL.csv')"
   ]
  },
  {
   "cell_type": "code",
   "execution_count": 3,
   "metadata": {},
   "outputs": [],
   "source": [
    "# Preprocess the data\n",
    "\n",
    "scaler = MinMaxScaler()\n",
    "data = scaler.fit_transform(df[\"close\"].values.reshape(-1, 1))\n",
    "train_size = int(len(data) * 0.8)\n",
    "train_data = data[:train_size]\n",
    "test_data = data[train_size:]"
   ]
  },
  {
   "cell_type": "code",
   "execution_count": 4,
   "metadata": {},
   "outputs": [
    {
     "name": "stdout",
     "output_type": "stream",
     "text": [
      "Metal device set to: Apple M1 Pro\n",
      "\n",
      "systemMemory: 16.00 GB\n",
      "maxCacheSize: 5.33 GB\n",
      "\n"
     ]
    },
    {
     "name": "stderr",
     "output_type": "stream",
     "text": [
      "2023-04-10 02:11:49.122081: I tensorflow/core/common_runtime/pluggable_device/pluggable_device_factory.cc:305] Could not identify NUMA node of platform GPU ID 0, defaulting to 0. Your kernel may not have been built with NUMA support.\n",
      "2023-04-10 02:11:49.122527: I tensorflow/core/common_runtime/pluggable_device/pluggable_device_factory.cc:271] Created TensorFlow device (/job:localhost/replica:0/task:0/device:GPU:0 with 0 MB memory) -> physical PluggableDevice (device: 0, name: METAL, pci bus id: <undefined>)\n"
     ]
    }
   ],
   "source": [
    "# Define the LSTM model architecture\n",
    "model = tf.keras.Sequential([\n",
    "    tf.keras.layers.LSTM(64, input_shape=(None, 1)),\n",
    "    tf.keras.layers.Dense(1)\n",
    "])"
   ]
  },
  {
   "cell_type": "code",
   "execution_count": 5,
   "metadata": {},
   "outputs": [],
   "source": [
    "# Define the GWO optimizer\n",
    "class GWOOptimizer(tf.keras.optimizers.Optimizer):\n",
    "    def __init__(self, population_size=5, max_iter=100, lb=-1, ub=1, **kwargs):\n",
    "        super(GWOOptimizer, self).__init__(name='GWOOptimizer', **kwargs)\n",
    "        self.population_size = population_size\n",
    "        self.max_iter = max_iter\n",
    "        self.lb = lb\n",
    "        self.ub = ub\n",
    "\n",
    "    def build(self, input_shape):\n",
    "        pass\n",
    "\n",
    "    def objective_function(self, weights):\n",
    "        # Set the weights of the LSTM model to the given values\n",
    "        self.set_weights(weights)\n",
    "        \n",
    "        # Train the LSTM model on the training data\n",
    "        self.model.fit(train_data, epochs=10, batch_size=32, verbose=0)\n",
    "        \n",
    "        # Evaluate the performance of the LSTM model on the validation data\n",
    "        y_pred = self.model.predict(val_data)\n",
    "        mse = np.mean(np.square(y_pred - val_data))\n",
    "        \n",
    "        return mse\n",
    "\n",
    "    def minimize(self, objective_function):\n",
    "        population = np.random.uniform(low=self.lb, high=self.ub, size=(self.population_size, self.num_weights))\n",
    "        \n",
    "        for t in range(self.max_iter):\n",
    "            a = 2 - 2 * t / (self.max_iter - 1)\n",
    "            a2 = -1 + 2 * t / (self.max_iter - 1)\n",
    "            for i in range(self.population_size):\n",
    "                r1, r2, r3 = i, np.random.randint(self.population_size), np.random.randint(self.population_size)\n",
    "                A1, A2, A3 = population[r1], population[r2], population[r3]\n",
    "                C1, C2, C3 = 2 * np.random.rand(self.num_weights) - 1, 2 * np.random.rand(self.num_weights) - 1, 2 * np.random.rand(self.num_weights) - 1\n",
    "                D_alpha, D_beta, D_delta = np.abs(C1 * A1 - population[i]), np.abs(C2 * A2 - population[i]), np.abs(C3 * A3 - population[i])\n",
    "                X1, X2, X3 = A1 - a * D_alpha, A2 - a * D_beta, A3 - a * D_delta\n",
    "                new_position = (X1 + X2 + X3) / 3\n",
    "                for j in range(self.num_weights):\n",
    "                    if new_position[j] < self.lb:\n",
    "                        new_position[j] = (A1[j] + A2[j] + A3[j]) / 3\n",
    "                    if new_position[j] > self.ub:\n",
    "                        new_position[j] = (A1[j] + A2[j] + A3[j]) / 3\n",
    "                mse = objective_function(population[i])\n",
    "                if mse > objective_function(new_position):\n",
    "                    population[i] = new_position\n",
    "                else:\n",
    "                    r = np.random.rand()\n",
    "                    if r < a2:\n",
    "                        population[i] = new_position\n",
    "        \n",
    "        best_position = population[np.argmin([objective_function(p) for p in population])]\n",
    "        self.set_weights(best_position)\n",
    "\n",
    "    def get_config(self):\n",
    "        config = super(GWOOptimizer, self).get_config()\n",
    "        config.update({\n",
    "            \"population_size\": self.population_size,\n",
    "            \"max_iter\": self.max_iter,\n",
    "            \"lb\": self.lb,\n",
    "            \"ub\": self.ub\n",
    "        })\n",
    "        return config"
   ]
  },
  {
   "cell_type": "code",
   "execution_count": 6,
   "metadata": {},
   "outputs": [],
   "source": [
    "# Define the objective function\n",
    "def objective_function(params):\n",
    "    # Set the LSTM model weights\n",
    "    model.set_weights(params)\n",
    "    \n",
    "    # Train the LSTM model with the GWO optimizer\n",
    "    optimizer = GWOOptimizer()\n",
    "    model.compile(optimizer=optimizer, loss=\"mse\")\n",
    "    model.fit(train_data, epochs=10, batch_size=32, verbose=0)\n",
    "    \n",
    "    # Evaluate the performance of the LSTM model on the test data\n",
    "    y_pred = model.predict(test_data)\n",
    "    mse = np.mean(np.square(y_pred - test_data))\n",
    "    return mse"
   ]
  },
  {
   "cell_type": "code",
   "execution_count": 8,
   "metadata": {},
   "outputs": [
    {
     "name": "stdout",
     "output_type": "stream",
     "text": [
      "Epoch 1/10\n"
     ]
    },
    {
     "name": "stderr",
     "output_type": "stream",
     "text": [
      "2023-04-10 02:12:10.433783: W tensorflow/core/platform/profile_utils/cpu_utils.cc:128] Failed to get CPU frequency: 0 Hz\n"
     ]
    },
    {
     "ename": "ValueError",
     "evalue": "in user code:\n\n    File \"/Users/anubhavbehera/miniconda3/envs/tensorflow/lib/python3.10/site-packages/keras/engine/training.py\", line 1051, in train_function  *\n        return step_function(self, iterator)\n    File \"/Users/anubhavbehera/miniconda3/envs/tensorflow/lib/python3.10/site-packages/keras/engine/training.py\", line 1040, in step_function  **\n        outputs = model.distribute_strategy.run(run_step, args=(data,))\n    File \"/Users/anubhavbehera/miniconda3/envs/tensorflow/lib/python3.10/site-packages/keras/engine/training.py\", line 1030, in run_step  **\n        outputs = model.train_step(data)\n    File \"/Users/anubhavbehera/miniconda3/envs/tensorflow/lib/python3.10/site-packages/keras/engine/training.py\", line 891, in train_step\n        self._validate_target_and_loss(y, loss)\n    File \"/Users/anubhavbehera/miniconda3/envs/tensorflow/lib/python3.10/site-packages/keras/engine/training.py\", line 848, in _validate_target_and_loss\n        raise ValueError(\n\n    ValueError: Target data is missing. Your model was compiled with loss=mse, and therefore expects target data to be provided in `fit()`.\n",
     "output_type": "error",
     "traceback": [
      "\u001b[0;31m---------------------------------------------------------------------------\u001b[0m",
      "\u001b[0;31mValueError\u001b[0m                                Traceback (most recent call last)",
      "Cell \u001b[0;32mIn[8], line 3\u001b[0m\n\u001b[1;32m      1\u001b[0m optimizer \u001b[39m=\u001b[39m GWOOptimizer()\n\u001b[1;32m      2\u001b[0m model\u001b[39m.\u001b[39mcompile(optimizer\u001b[39m=\u001b[39moptimizer, loss\u001b[39m=\u001b[39m\u001b[39m\"\u001b[39m\u001b[39mmse\u001b[39m\u001b[39m\"\u001b[39m)\n\u001b[0;32m----> 3\u001b[0m model\u001b[39m.\u001b[39;49mfit(train_data, epochs\u001b[39m=\u001b[39;49m\u001b[39m10\u001b[39;49m, batch_size\u001b[39m=\u001b[39;49m\u001b[39m32\u001b[39;49m)\n\u001b[1;32m      4\u001b[0m model\u001b[39m.\u001b[39mfit(x\u001b[39m=\u001b[39mtrain_data, y\u001b[39m=\u001b[39mtarget_data, epochs\u001b[39m=\u001b[39m\u001b[39m10\u001b[39m, batch_size\u001b[39m=\u001b[39m\u001b[39m32\u001b[39m)\n",
      "File \u001b[0;32m~/miniconda3/envs/tensorflow/lib/python3.10/site-packages/keras/utils/traceback_utils.py:67\u001b[0m, in \u001b[0;36mfilter_traceback.<locals>.error_handler\u001b[0;34m(*args, **kwargs)\u001b[0m\n\u001b[1;32m     65\u001b[0m \u001b[39mexcept\u001b[39;00m \u001b[39mException\u001b[39;00m \u001b[39mas\u001b[39;00m e:  \u001b[39m# pylint: disable=broad-except\u001b[39;00m\n\u001b[1;32m     66\u001b[0m   filtered_tb \u001b[39m=\u001b[39m _process_traceback_frames(e\u001b[39m.\u001b[39m__traceback__)\n\u001b[0;32m---> 67\u001b[0m   \u001b[39mraise\u001b[39;00m e\u001b[39m.\u001b[39mwith_traceback(filtered_tb) \u001b[39mfrom\u001b[39;00m \u001b[39mNone\u001b[39m\n\u001b[1;32m     68\u001b[0m \u001b[39mfinally\u001b[39;00m:\n\u001b[1;32m     69\u001b[0m   \u001b[39mdel\u001b[39;00m filtered_tb\n",
      "File \u001b[0;32m/var/folders/d3/ctwg6z0d7vx6q83fy8vgjyc00000gn/T/__autograph_generated_filejfvww27b.py:15\u001b[0m, in \u001b[0;36mouter_factory.<locals>.inner_factory.<locals>.tf__train_function\u001b[0;34m(iterator)\u001b[0m\n\u001b[1;32m     13\u001b[0m \u001b[39mtry\u001b[39;00m:\n\u001b[1;32m     14\u001b[0m     do_return \u001b[39m=\u001b[39m \u001b[39mTrue\u001b[39;00m\n\u001b[0;32m---> 15\u001b[0m     retval_ \u001b[39m=\u001b[39m ag__\u001b[39m.\u001b[39mconverted_call(ag__\u001b[39m.\u001b[39mld(step_function), (ag__\u001b[39m.\u001b[39mld(\u001b[39mself\u001b[39m), ag__\u001b[39m.\u001b[39mld(iterator)), \u001b[39mNone\u001b[39;00m, fscope)\n\u001b[1;32m     16\u001b[0m \u001b[39mexcept\u001b[39;00m:\n\u001b[1;32m     17\u001b[0m     do_return \u001b[39m=\u001b[39m \u001b[39mFalse\u001b[39;00m\n",
      "\u001b[0;31mValueError\u001b[0m: in user code:\n\n    File \"/Users/anubhavbehera/miniconda3/envs/tensorflow/lib/python3.10/site-packages/keras/engine/training.py\", line 1051, in train_function  *\n        return step_function(self, iterator)\n    File \"/Users/anubhavbehera/miniconda3/envs/tensorflow/lib/python3.10/site-packages/keras/engine/training.py\", line 1040, in step_function  **\n        outputs = model.distribute_strategy.run(run_step, args=(data,))\n    File \"/Users/anubhavbehera/miniconda3/envs/tensorflow/lib/python3.10/site-packages/keras/engine/training.py\", line 1030, in run_step  **\n        outputs = model.train_step(data)\n    File \"/Users/anubhavbehera/miniconda3/envs/tensorflow/lib/python3.10/site-packages/keras/engine/training.py\", line 891, in train_step\n        self._validate_target_and_loss(y, loss)\n    File \"/Users/anubhavbehera/miniconda3/envs/tensorflow/lib/python3.10/site-packages/keras/engine/training.py\", line 848, in _validate_target_and_loss\n        raise ValueError(\n\n    ValueError: Target data is missing. Your model was compiled with loss=mse, and therefore expects target data to be provided in `fit()`.\n"
     ]
    }
   ],
   "source": [
    "optimizer = GWOOptimizer()\n",
    "model.compile(optimizer=optimizer, loss=\"mse\")\n",
    "model.fit(train_data, epochs=10, batch_size=32)\n",
    "model.fit(x=train_data, y=target_data, epochs=10, batch_size=32)"
   ]
  },
  {
   "cell_type": "code",
   "execution_count": 9,
   "metadata": {},
   "outputs": [
    {
     "name": "stderr",
     "output_type": "stream",
     "text": [
      "2023-04-10 02:12:13.520404: I tensorflow/core/grappler/optimizers/custom_graph_optimizer_registry.cc:113] Plugin optimizer for device_type GPU is enabled.\n",
      "2023-04-10 02:12:13.574179: I tensorflow/core/grappler/optimizers/custom_graph_optimizer_registry.cc:113] Plugin optimizer for device_type GPU is enabled.\n"
     ]
    },
    {
     "name": "stdout",
     "output_type": "stream",
     "text": [
      "8/8 [==============================] - 1s 7ms/step\n",
      "MSE:  0.491503122735346\n"
     ]
    }
   ],
   "source": [
    "y_pred = model.predict(test_data)\n",
    "mse = np.mean(np.square(y_pred - test_data))\n",
    "print(\"MSE: \", mse)"
   ]
  },
  {
   "cell_type": "code",
   "execution_count": 10,
   "metadata": {},
   "outputs": [],
   "source": [
    "y_pred = scaler.inverse_transform(y_pred)"
   ]
  },
  {
   "cell_type": "code",
   "execution_count": 11,
   "metadata": {},
   "outputs": [
    {
     "data": {
      "image/png": "[encoded data removed]",
      "text/plain": [
       "<Figure size 640x480 with 1 Axes>"
      ]
     },
     "metadata": {},
     "output_type": "display_data"
    }
   ],
   "source": [
    "import matplotlib.pyplot as plt\n",
    "plt.plot(df[\"close\"].values[train_size:], label=\"Actual\")\n",
    "plt.plot(y_pred, label=\"Predicted\")\n",
    "plt.legend()\n",
    "plt.show()"
   ]
  }
 ],
 "metadata": {
  "kernelspec": {
   "display_name": "tensorflow",
   "language": "python",
   "name": "python3"
  },
  "language_info": {
   "codemirror_mode": {
    "name": "ipython",
    "version": 3
   },
   "file_extension": ".py",
   "mimetype": "text/x-python",
   "name": "python",
   "nbconvert_exporter": "python",
   "pygments_lexer": "ipython3",
   "version": "3.10.9"
  },
  "orig_nbformat": 4
 },
 "nbformat": 4,
 "nbformat_minor": 2
}
